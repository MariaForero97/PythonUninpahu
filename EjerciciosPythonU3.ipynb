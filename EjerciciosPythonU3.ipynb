{
  "nbformat": 4,
  "nbformat_minor": 0,
  "metadata": {
    "colab": {
      "provenance": [],
      "authorship_tag": "ABX9TyN338N29Lhm//XfP6VnPaZs",
      "include_colab_link": true
    },
    "kernelspec": {
      "name": "python3",
      "display_name": "Python 3"
    },
    "language_info": {
      "name": "python"
    }
  },
  "cells": [
    {
      "cell_type": "markdown",
      "metadata": {
        "id": "view-in-github",
        "colab_type": "text"
      },
      "source": [
        "<a href=\"https://colab.research.google.com/github/MariaForero97/PythonUninpahu/blob/main/EjerciciosPythonU3.ipynb\" target=\"_parent\"><img src=\"https://colab.research.google.com/assets/colab-badge.svg\" alt=\"Open In Colab\"/></a>"
      ]
    },
    {
      "cell_type": "code",
      "execution_count": null,
      "metadata": {
        "colab": {
          "base_uri": "https://localhost:8080/"
        },
        "id": "Uuk9KEnRVOc6",
        "outputId": "8ca5ce83-845c-4f98-c019-85f61b3eeabb"
      },
      "outputs": [
        {
          "output_type": "stream",
          "name": "stdout",
          "text": [
            "Digite el nombre de una divisa entre: Euro, Dollar, Yen dollar\n",
            "$\n"
          ]
        }
      ],
      "source": [
        "diccionario = {'Euro':'€', 'Dollar':'$', 'Yen':'¥'}\n",
        "laDivisa = input('Digite el nombre de una divisa entre: Euro, Dollar, Yen ')\n",
        "\n",
        "print(diccionario.get(laDivisa.title(),\"No se encontró\"))\n"
      ]
    },
    {
      "cell_type": "code",
      "source": [
        "i = 4\n",
        "elDiccionario = {}\n",
        "while i <= 4:\n",
        "    elDiccionario['nombre'] = input('Ingrese su nombre: ')\n",
        "    i += 1\n",
        "    elDiccionario['edad'] = int(input('Ingrese su edad: '))\n",
        "    i += 1\n",
        "    elDiccionario['direccion'] = input('Ingrese su direccion: ')\n",
        "    i += 1\n",
        "    elDiccionario['telefono'] = int(input('Ingrese su telefono: '))\n",
        "    i += 1\n",
        "print(elDiccionario)"
      ],
      "metadata": {
        "colab": {
          "base_uri": "https://localhost:8080/"
        },
        "id": "zWhXm4IsbXWy",
        "outputId": "9cd4a85b-9007-4833-b536-0afb0769ad2e"
      },
      "execution_count": null,
      "outputs": [
        {
          "output_type": "stream",
          "name": "stdout",
          "text": [
            "Ingrese su nombre: Maria\n",
            "Ingrese su edad: 25\n",
            "Ingrese su direccion: Cra 79\n",
            "Ingrese su telefono: 3123875646\n",
            "{'nombre': 'Maria', 'edad': 25, 'direccion': 'Cra 79', 'telefono': 3123875646}\n"
          ]
        }
      ]
    },
    {
      "cell_type": "code",
      "source": [
        "fruta = {'Platano':1.35, 'Manzana':8, 'Pera':85, 'Naranja':7}\n",
        "fruta = input('Qué frutas desea comprar: ').title()\n",
        "kg = float(input('¿Cuántos kilos deseas?: '))\n",
        "\n",
        "print('Lista de la compra')\n",
        "\n",
        "if fruta in fruta:\n",
        "    print(kg, 'kilos de', fruta, 'valen', frutas[fruta]*kg, '$')\n",
        "else:\n",
        "    print(\"Lo siento, la fruta\", fruta, \"no está disponible.\")"
      ],
      "metadata": {
        "id": "TwEYH-pZbRSq"
      },
      "execution_count": null,
      "outputs": []
    },
    {
      "cell_type": "code",
      "source": [
        "Canasta = {}\n",
        "continuar = True\n",
        "while continuar:\n",
        "    item = input('ingrese  productos: ')\n",
        "    precio = float(input('Introduce el precio del producto ' + item + ': '))\n",
        "    Canasta[item] = precio\n",
        "    continuar = input('¿Quieres añadir artículos a la lista (si/no)? ') == \"si\"\n",
        "costo = 0\n",
        "print('Lista de la compra')\n",
        "for item, precio in Canasta.items():\n",
        "    print(item, '\\t', precio)\n",
        "    costo += precio\n",
        "print('Costo total: ', costo)"
      ],
      "metadata": {
        "colab": {
          "base_uri": "https://localhost:8080/"
        },
        "id": "48D6Emsgb_Vb",
        "outputId": "264f2fbf-0bdd-4488-81e8-6391fd204797"
      },
      "execution_count": 2,
      "outputs": [
        {
          "output_type": "stream",
          "name": "stdout",
          "text": [
            "ingrese  productos: melon\n",
            "Introduce el precio del producto melon: 3000\n",
            "¿Quieres añadir artículos a la lista (si/no)? si\n",
            "ingrese  productos: fresas\n",
            "Introduce el precio del producto fresas: 2000\n",
            "¿Quieres añadir artículos a la lista (si/no)? si\n",
            "ingrese  productos: manzana\n",
            "Introduce el precio del producto manzana: 1500\n",
            "¿Quieres añadir artículos a la lista (si/no)? no\n",
            "Lista de la compra\n",
            "melon \t 3000.0\n",
            "fresas \t 2000.0\n",
            "manzana \t 1500.0\n",
            "Costo total:  6500.0\n"
          ]
        }
      ]
    },
    {
      "cell_type": "code",
      "source": [
        "clientes={}\n",
        "\n",
        "\n",
        "def create():\n",
        "    cliente={}\n",
        "    cedula=input(\"ingrese la cedula del cliente\")\n",
        "    cliente[\"nombre\"]=input(\"ingrese el nombre del cliente\")\n",
        "    cliente[\"direccion\"]=input(\"ingrese la dirección del cliente\")\n",
        "    cliente[\"telefono\"]=input(\"ingrese el telefono del cliente\")\n",
        "    val=input(\"escriba 'y' si el usuario es preferente\")\n",
        "    if val.lower()=='y':\n",
        "      cliente[\"preferente\"]=True\n",
        "    else:\n",
        "      cliente[\"preferente\"]=False\n",
        "    clientes[cedula]=cliente\n",
        "\n",
        "    print(\"create\")\n",
        "def delete():\n",
        "    '''your code here'''\n",
        "    print( \"delete\")\n",
        "def show():\n",
        "    print(\"show\")\n",
        "def show_all():\n",
        "    for element in clientes.keys():\n",
        "      print(clientes[element])\n",
        "    print(\"show all\")\n",
        "def show_prefer():\n",
        "    print(\"show preferents\")\n",
        "def end():\n",
        "    print(\"end\")\n",
        "def default():\n",
        "    print(\"no valid op\")\n",
        "\n",
        "switcher = {\n",
        "    1: create,\n",
        "    2: delete,\n",
        "    3: show,\n",
        "    4: show_all,\n",
        "    5: show_prefer,\n",
        "    6: end\n",
        "    }\n",
        "\n",
        "\n",
        "def switch(dayOfWeek):\n",
        "    return switcher.get(dayOfWeek, default)()\n",
        "\n",
        "\n",
        "\n",
        "while True:\n",
        "  opcion=int(input(\"ingrese una opción\\n 1. crear cliente\\n 2.borrar cliente\\n 3.mostrar cliente\\n 4.mostrar todos los clientes\\n 5.mostrar clientes preferentes\\n 6.terminar\\n\"))\n",
        "  switch(opcion)\n",
        "  if opcion==6:\n",
        "    break\n"
      ],
      "metadata": {
        "id": "BdqR451edjKd"
      },
      "execution_count": null,
      "outputs": []
    }
  ]
}