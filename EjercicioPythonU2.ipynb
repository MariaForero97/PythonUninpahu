{
  "nbformat": 4,
  "nbformat_minor": 0,
  "metadata": {
    "colab": {
      "provenance": [],
      "authorship_tag": "ABX9TyMcK1eI66sLw9Ii2c0rXopE",
      "include_colab_link": true
    },
    "kernelspec": {
      "name": "python3",
      "display_name": "Python 3"
    },
    "language_info": {
      "name": "python"
    }
  },
  "cells": [
    {
      "cell_type": "markdown",
      "metadata": {
        "id": "view-in-github",
        "colab_type": "text"
      },
      "source": [
        "<a href=\"https://colab.research.google.com/github/MariaForero97/PythonUninpahu/blob/main/EjercicioPythonU2.ipynb\" target=\"_parent\"><img src=\"https://colab.research.google.com/assets/colab-badge.svg\" alt=\"Open In Colab\"/></a>"
      ]
    },
    {
      "cell_type": "code",
      "execution_count": null,
      "metadata": {
        "colab": {
          "base_uri": "https://localhost:8080/"
        },
        "id": "33d7qdidNj2N",
        "outputId": "1c491dcb-9f06-42b6-e6c7-6b66c4eeac74"
      },
      "outputs": [
        {
          "output_type": "stream",
          "name": "stdout",
          "text": [
            "ingrese la cantidad de materias: 2\n",
            "ingrese el nombre de la materia 1: calculo\n",
            "ingrese el nombre de la materia 2: algebra\n",
            "['calculo', 'algebra']\n"
          ]
        }
      ],
      "source": [
        "listamaterias=[]\n",
        "\n",
        "num_materias=int(input('ingrese la cantidad de materias: '))\n",
        "\n",
        "for i in range(num_materias):\n",
        "  materia=input('ingrese el nombre de la materia '+ str(i+1)+': ')\n",
        "  listamaterias.append(materia)\n",
        "\n",
        "print(listamaterias)"
      ]
    },
    {
      "cell_type": "code",
      "source": [
        "notas=[]\n",
        "\n",
        "for i in range(len(listamaterias)):\n",
        "  while True:\n",
        "    notastring=input(\"ingrese la nota que espera de \"+listamaterias[i]+': ')\n",
        "    notastring=notastring.replace(',','.')\n",
        "    nota=float(notastring)\n",
        "    \n",
        "    if nota>5 or nota<0:\n",
        "      print(\"ingrese una nota valida\")\n",
        "    else: \n",
        "        notas.append(nota)\n",
        "        break\n",
        "\n",
        "print(notas)"
      ],
      "metadata": {
        "colab": {
          "base_uri": "https://localhost:8080/"
        },
        "id": "Gn7z36wdNyWY",
        "outputId": "87016cfd-86c8-43d2-bea8-222070ca440a"
      },
      "execution_count": null,
      "outputs": [
        {
          "output_type": "stream",
          "name": "stdout",
          "text": [
            "ingrese la nota que espera de calculo: 4.0\n",
            "ingrese la nota que espera de algebra: 5.0\n",
            "[4.0, 5.0]\n"
          ]
        }
      ]
    },
    {
      "cell_type": "code",
      "source": [
        "aprobadas=[]\n",
        "reprobadas=[]\n",
        "\n",
        "for i in range(len(listamaterias)):\n",
        "  if notas[i]<3:\n",
        "    reprobadas.append(listamaterias[i])\n",
        "  else:\n",
        "    aprobadas.append(listamaterias[i])\n",
        "\n",
        "print(\"Materias aprobadas\",aprobadas)\n",
        "print(\"Materias reprobadas\",reprobadas)"
      ],
      "metadata": {
        "colab": {
          "base_uri": "https://localhost:8080/"
        },
        "id": "Rc7OyiAMN3Kh",
        "outputId": "ae0f4383-a694-4990-f59c-13fa57144662"
      },
      "execution_count": null,
      "outputs": [
        {
          "output_type": "stream",
          "name": "stdout",
          "text": [
            "Materias aprobadas ['calculo', 'algebra']\n",
            "Materias reprobadas []\n"
          ]
        }
      ]
    },
    {
      "cell_type": "code",
      "source": [
        "#unos valores separados por comas en string\n",
        "listastr='1,2,3'\n",
        "#usamos el metodo split indicando que los valores se separan por comas\n",
        "lista=listastr.split(',')\n",
        "#convertimos los numeros guardados en string a float\n",
        "lista=[float(element) for element in lista]\n",
        "\n",
        "print(lista)"
      ],
      "metadata": {
        "colab": {
          "base_uri": "https://localhost:8080/"
        },
        "id": "CwzEw1m1N7Eb",
        "outputId": "808fb59c-f9c6-4005-95e0-4f69eac34bca"
      },
      "execution_count": null,
      "outputs": [
        {
          "output_type": "stream",
          "name": "stdout",
          "text": [
            "[1.0, 2.0, 3.0]\n"
          ]
        }
      ]
    },
    {
      "cell_type": "code",
      "source": [
        "palabra=\"Somos o no somos\"\n",
        "palabra=palabra.lower()\n",
        "palabra=palabra.replace(' ','')\n",
        "palabralist=list(palabra)\n",
        "palabralist2=palabralist.copy()\n",
        "palabralist2.reverse()\n",
        "print(palabralist2)\n",
        "print(palabralist)\n",
        "\n",
        "if palabralist == palabralist2:\n",
        "  print(\"es palindromo\")\n",
        "else:\n",
        "  print(\"no es palindromo\")"
      ],
      "metadata": {
        "colab": {
          "base_uri": "https://localhost:8080/"
        },
        "id": "i9j0vVcSN-Ff",
        "outputId": "8ded5531-8644-4b3d-94f7-bbdc5aa13c6c"
      },
      "execution_count": null,
      "outputs": [
        {
          "output_type": "stream",
          "name": "stdout",
          "text": [
            "['s', 'o', 'm', 'o', 's', 'o', 'n', 'o', 's', 'o', 'm', 'o', 's']\n",
            "['s', 'o', 'm', 'o', 's', 'o', 'n', 'o', 's', 'o', 'm', 'o', 's']\n",
            "es palindromo\n"
          ]
        }
      ]
    },
    {
      "cell_type": "code",
      "source": [
        "import numpy as np\n",
        "\n",
        "a = np.array([1,2], float) \n",
        "b = np.array([4,5], float)\n",
        "\n",
        "np.dot(a,b)"
      ],
      "metadata": {
        "colab": {
          "base_uri": "https://localhost:8080/"
        },
        "id": "j1Wn8FrGOxB1",
        "outputId": "38bd33df-e326-473e-899b-af76e2b1ff5d"
      },
      "execution_count": null,
      "outputs": [
        {
          "output_type": "execute_result",
          "data": {
            "text/plain": [
              "14.0"
            ]
          },
          "metadata": {},
          "execution_count": 9
        }
      ]
    },
    {
      "cell_type": "code",
      "source": [
        "dinero=[100000,50000,20000,10000,5000,2000]\n",
        "dinero1=[500,200,100,50]\n",
        "saldo=int(input(\"ingrese cuanto va a pagar: \"))\n",
        "pago=int(input(\"ingrese con cuanto va a pagar: \"))\n",
        "while (pago < saldo):\n",
        "     pago = int(input(\"cantidad insuficiente, ingrese mas dinero: \"))\n",
        "cambio=pago-saldo\n",
        "conteos=[]\n",
        "\n",
        "def vueltas(cambio):\n",
        "           faltante=cambio\n",
        "           for rep in dinero:\n",
        "               conteo=faltante//rep\n",
        "               if conteo>0:\n",
        "                   faltante=faltante%rep\n",
        "                   print(faltante)\n",
        "                   print(\"{} billetes de {}\".format(conteo,rep))\n",
        "                   \n",
        "                 \n",
        "while (True):\n",
        "     if pago==saldo:\n",
        "        print(\"Gracias por su compra\")\n",
        "        break\n",
        "     if pago<saldo:\n",
        "        print(\"ingrese \"+cambio+\"o mas para poder continuar\")\n",
        "\n",
        "     if pago>saldo:\n",
        "         break\n",
        "vueltas(cambio)    \n",
        " \n",
        "print(\"gracias por su compra\")"
      ],
      "metadata": {
        "id": "EEtN6ccBPWgQ",
        "colab": {
          "base_uri": "https://localhost:8080/"
        },
        "outputId": "33d8d696-26ce-4208-8945-eb07ecddbe59"
      },
      "execution_count": 1,
      "outputs": [
        {
          "output_type": "stream",
          "name": "stdout",
          "text": [
            "ingrese cuanto va a pagar: 3000\n",
            "ingrese con cuanto va a pagar: 3000\n",
            "Gracias por su compra\n",
            "gracias por su compra\n"
          ]
        }
      ]
    }
  ]
}